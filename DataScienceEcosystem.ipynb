{
 "cells": [
  {
   "cell_type": "markdown",
   "id": "3e67b296-546d-4f65-8cff-2ae5ae9ad2f0",
   "metadata": {},
   "source": [
    "<h1>Data Science Tools and Ecosystem</h1>"
   ]
  },
  {
   "cell_type": "markdown",
   "id": "bead9537-c04f-4859-b2b4-ec58525247ed",
   "metadata": {},
   "source": [
    "## Author\n",
    "David Wertheimer"
   ]
  },
  {
   "cell_type": "markdown",
   "id": "0772686b-cf86-434f-90ec-bed36d5fd0cd",
   "metadata": {},
   "source": [
    "In this notebook, Data Science Tools and Ecosystem are summarized."
   ]
  },
  {
   "cell_type": "markdown",
   "id": "d4ee1d77-4bab-4abf-a596-433880e44bdf",
   "metadata": {
    "tags": []
   },
   "source": [
    "**Objectives:**\n",
    "- List of Popular Languages\n",
    "- List of Popular Libraries\n",
    "- A table of data science tools"
   ]
  },
  {
   "cell_type": "markdown",
   "id": "e7f16737-b37a-44af-8957-9ff828185f3a",
   "metadata": {},
   "source": [
    "Some of the popular languages that Data Scientists use are:\n",
    "1. Python\n",
    "1. R\n",
    "1. Scala\n",
    "1. Julia"
   ]
  },
  {
   "cell_type": "markdown",
   "id": "31418ea0-a08f-48e9-82e0-008f20548fe7",
   "metadata": {},
   "source": [
    "Some of the commonly used libraries used by Data Scientists include:\n",
    "1. Pandas\n",
    "1. NumPy\n",
    "1. Matplotlib\n",
    "1. Ployly\n",
    "1. Leaflet"
   ]
  },
  {
   "cell_type": "markdown",
   "id": "aeaf4970-6b1b-4669-81b2-b2492588088e",
   "metadata": {},
   "source": [
    "|Data Science Tools|\n",
    "|---------|\n",
    "|Jupyter Notebook|\n",
    "|R Studio|\n",
    "|VS Code|"
   ]
  },
  {
   "cell_type": "markdown",
   "id": "679ba93e-a2fb-47e2-892c-3e831f57b664",
   "metadata": {},
   "source": [
    "<h3>Below are a few examples of evaluating arithmetic expressions in Python</h3>"
   ]
  },
  {
   "cell_type": "code",
   "execution_count": 7,
   "id": "0d8e9ae9-01e7-4165-8bce-cc6c486c54d1",
   "metadata": {
    "tags": []
   },
   "outputs": [
    {
     "data": {
      "text/plain": [
       "17"
      ]
     },
     "execution_count": 7,
     "metadata": {},
     "output_type": "execute_result"
    }
   ],
   "source": [
    "# This is a simple arithmetic express to multiply then add integers\n",
    "(3*4)+5"
   ]
  },
  {
   "cell_type": "code",
   "execution_count": 8,
   "id": "5ab37594-f63f-4667-9044-d1b0e1f8e2a4",
   "metadata": {
    "tags": []
   },
   "outputs": [
    {
     "data": {
      "text/plain": [
       "3.3333333333333335"
      ]
     },
     "execution_count": 8,
     "metadata": {},
     "output_type": "execute_result"
    }
   ],
   "source": [
    "# this will convert 200 minutes into hours by dividing by 60\n",
    "200/60"
   ]
  }
 ],
 "metadata": {
  "kernelspec": {
   "display_name": "Python 3 (ipykernel)",
   "language": "python",
   "name": "python3"
  },
  "language_info": {
   "codemirror_mode": {
    "name": "ipython",
    "version": 3
   },
   "file_extension": ".py",
   "mimetype": "text/x-python",
   "name": "python",
   "nbconvert_exporter": "python",
   "pygments_lexer": "ipython3",
   "version": "3.11.4"
  }
 },
 "nbformat": 4,
 "nbformat_minor": 5
}
